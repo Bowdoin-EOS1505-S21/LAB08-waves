{
 "cells": [
  {
   "cell_type": "markdown",
   "metadata": {},
   "source": [
    "# LAB08 - WAVES\n",
    "\n",
    "In this part of lab, you will practice comparing different types of waves (i.e. wave models) with real world data.\n"
   ]
  },
  {
   "cell_type": "markdown",
   "metadata": {},
   "source": [
    "# Part 1: Define the wave models for use later\n",
    "\n",
    "There are three surface wave models:\n",
    "1. deep water waves whose speed depend on wavelength,\n",
    "2. shallow water waves whose speed depend on water depth, and\n",
    "3. all waves (deep, transition, and shallow water) with a more complicated model."
   ]
  },
  {
   "cell_type": "code",
   "execution_count": 1,
   "metadata": {},
   "outputs": [],
   "source": [
    "import numpy as np\n",
    "import matplotlib.pyplot as plt\n",
    "\n",
    "def deep_wave_speed(wavelen):\n",
    "    # Speed of a deep water wave.\n",
    "    # See Segar Chapter 9, p. 217.\n",
    "    # wavelen = wavelength [meters]\n",
    "    g = 9.81 # accel. due to gravity, [m/s2]\n",
    "    return np.sqrt(g*wavelen/(2*np.pi))\n",
    "    \n",
    "def shallow_wave_speed(depth):\n",
    "    # Speed of a shallow water wave.\n",
    "    # See Segar Chapter 9, p. 222.\n",
    "    # depth = water depth [meters]\n",
    "    g = 9.81\n",
    "    return np.sqrt(g*depth)\n",
    "    \n",
    "def all_wave_speed(wavelen,depth):\n",
    "    # Generalized wave speed equation.\n",
    "    # wavelen = wavelength [meters]\n",
    "    # depth = water depth [meters]\n",
    "    g = 9.81 # accel. due to gravity, [m/s2]\n",
    "    return np.sqrt((g*wavelen/(2*np.pi))*np.tanh(2*np.pi*depth/wavelen))"
   ]
  },
  {
   "cell_type": "markdown",
   "metadata": {},
   "source": [
    "# Step 2: Use the wave models\n",
    "One way to do this is to recreate Segar Fig. 9-16"
   ]
  },
  {
   "cell_type": "code",
   "execution_count": 19,
   "metadata": {},
   "outputs": [
    {
     "name": "stderr",
     "output_type": "stream",
     "text": [
      "/mnt/local/python3.6/lib/python3.6/site-packages/ipykernel_launcher.py:20: UserWarning: Legend does not support 'S' instances.\n",
      "A proxy artist may be used instead.\n",
      "See: https://matplotlib.org/users/legend_guide.html#creating-artists-specifically-for-adding-to-the-legend-aka-proxy-artists\n",
      "/mnt/local/python3.6/lib/python3.6/site-packages/ipykernel_launcher.py:20: UserWarning: Legend does not support 'h' instances.\n",
      "A proxy artist may be used instead.\n",
      "See: https://matplotlib.org/users/legend_guide.html#creating-artists-specifically-for-adding-to-the-legend-aka-proxy-artists\n",
      "/mnt/local/python3.6/lib/python3.6/site-packages/ipykernel_launcher.py:20: UserWarning: Legend does not support 'a' instances.\n",
      "A proxy artist may be used instead.\n",
      "See: https://matplotlib.org/users/legend_guide.html#creating-artists-specifically-for-adding-to-the-legend-aka-proxy-artists\n",
      "/mnt/local/python3.6/lib/python3.6/site-packages/ipykernel_launcher.py:20: UserWarning: Legend does not support 'l' instances.\n",
      "A proxy artist may be used instead.\n",
      "See: https://matplotlib.org/users/legend_guide.html#creating-artists-specifically-for-adding-to-the-legend-aka-proxy-artists\n",
      "/mnt/local/python3.6/lib/python3.6/site-packages/ipykernel_launcher.py:20: UserWarning: Legend does not support 'o' instances.\n",
      "A proxy artist may be used instead.\n",
      "See: https://matplotlib.org/users/legend_guide.html#creating-artists-specifically-for-adding-to-the-legend-aka-proxy-artists\n",
      "/mnt/local/python3.6/lib/python3.6/site-packages/ipykernel_launcher.py:20: UserWarning: Legend does not support 'w' instances.\n",
      "A proxy artist may be used instead.\n",
      "See: https://matplotlib.org/users/legend_guide.html#creating-artists-specifically-for-adding-to-the-legend-aka-proxy-artists\n",
      "/mnt/local/python3.6/lib/python3.6/site-packages/ipykernel_launcher.py:20: UserWarning: Legend does not support ' ' instances.\n",
      "A proxy artist may be used instead.\n",
      "See: https://matplotlib.org/users/legend_guide.html#creating-artists-specifically-for-adding-to-the-legend-aka-proxy-artists\n"
     ]
    },
    {
     "data": {
      "text/plain": [
       "<matplotlib.legend.Legend at 0x2b349749f080>"
      ]
     },
     "execution_count": 19,
     "metadata": {},
     "output_type": "execute_result"
    },
    {
     "data": {
      "image/png": "[encoded data removed]",
      "text/plain": [
       "<Figure size 432x288 with 1 Axes>"
      ]
     },
     "metadata": {
      "needs_background": "light"
     },
     "output_type": "display_data"
    }
   ],
   "source": [
    "water_depths = np.linspace(0,1000,101)\n",
    "wavelengths = [10, 50, 100, 200, 500, 1000, 2000, 5000, 10000]\n",
    "\n",
    "# Initialize the plot\n",
    "fig, ax = plt.subplots()\n",
    "\n",
    "# Plot the shallow water waves which only depend on depth\n",
    "ax.plot(\n",
    "    water_depths,\n",
    "    shallow_wave_speed(water_depths))\n",
    "\n",
    "# Plot the deep water waves which only depend on wavelength\n",
    "for wavelen in wavelengths:\n",
    "    ax.plot(\n",
    "        water_depths,\n",
    "        all_wave_speed(wavelen,water_depths))\n",
    "\n",
    "# Annotate the plot\n",
    "legend_labels = wavelengths\n",
    "fig.legend('Shallow water',wavelengths)"
   ]
  },
  {
   "cell_type": "markdown",
   "metadata": {},
   "source": [
    "# Step 3: Load Data and overlay"
   ]
  },
  {
   "cell_type": "code",
   "execution_count": null,
   "metadata": {},
   "outputs": [],
   "source": []
  }
 ],
 "metadata": {
  "kernelspec": {
   "display_name": "Python 3.6",
   "language": "python",
   "name": "python3.6"
  },
  "language_info": {
   "codemirror_mode": {
    "name": "ipython",
    "version": 3
   },
   "file_extension": ".py",
   "mimetype": "text/x-python",
   "name": "python",
   "nbconvert_exporter": "python",
   "pygments_lexer": "ipython3",
   "version": "3.6.9"
  }
 },
 "nbformat": 4,
 "nbformat_minor": 2
}
